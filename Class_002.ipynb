{
  "nbformat": 4,
  "nbformat_minor": 0,
  "metadata": {
    "colab": {
      "provenance": []
    },
    "kernelspec": {
      "name": "python3",
      "display_name": "Python 3"
    },
    "language_info": {
      "name": "python"
    }
  },
  "cells": [
    {
      "cell_type": "markdown",
      "source": [
        "# Numeric Data\n",
        "When we are learning any language always consider three things\n",
        "* How to write\n",
        "* How to modify\n",
        "* How to extract information from data\n",
        "\n",
        "There are three numeric types in Python:\n",
        "\n",
        "* int\n",
        "* float\n",
        "* complex"
      ],
      "metadata": {
        "id": "wHsNrvT9p_iL"
      }
    },
    {
      "cell_type": "code",
      "source": [
        "x = 1    # int\n",
        "y = 2.8  # float\n",
        "z = 1j   # complex"
      ],
      "metadata": {
        "id": "QEENgkXHqnEf"
      },
      "execution_count": null,
      "outputs": []
    },
    {
      "cell_type": "code",
      "source": [
        "print(type(x))\n",
        "print(type(y))\n",
        "print(type(z))"
      ],
      "metadata": {
        "colab": {
          "base_uri": "https://localhost:8080/"
        },
        "id": "D-vkYZRJrJFT",
        "outputId": "299d4627-81c8-472f-cb13-6e87e028a1f8"
      },
      "execution_count": null,
      "outputs": [
        {
          "output_type": "stream",
          "name": "stdout",
          "text": [
            "<class 'int'>\n",
            "<class 'float'>\n",
            "<class 'complex'>\n"
          ]
        }
      ]
    },
    {
      "cell_type": "markdown",
      "source": [
        "# Python Arithmetic Operators"
      ],
      "metadata": {
        "id": "4ElS2Y1RreXZ"
      }
    },
    {
      "cell_type": "markdown",
      "source": [
        "# \tAddition"
      ],
      "metadata": {
        "id": "XqLoE7wYrhpH"
      }
    },
    {
      "cell_type": "code",
      "source": [
        "x = 5\n",
        "y = 3\n",
        "\n",
        "print(x + y)"
      ],
      "metadata": {
        "colab": {
          "base_uri": "https://localhost:8080/"
        },
        "id": "56qr5cyprkli",
        "outputId": "1fd8eac2-13ad-41ec-be69-ad3aa6833a23"
      },
      "execution_count": null,
      "outputs": [
        {
          "output_type": "stream",
          "name": "stdout",
          "text": [
            "8\n"
          ]
        }
      ]
    },
    {
      "cell_type": "markdown",
      "source": [
        "# Subtraction"
      ],
      "metadata": {
        "id": "-thw-zOzrp9S"
      }
    },
    {
      "cell_type": "code",
      "source": [
        "x = 5\n",
        "y = 3\n",
        "\n",
        "print(x - y)"
      ],
      "metadata": {
        "colab": {
          "base_uri": "https://localhost:8080/"
        },
        "id": "oxSaxnPHrrPA",
        "outputId": "d83eb56a-9c8d-49ce-cecd-c491cd0c38ff"
      },
      "execution_count": null,
      "outputs": [
        {
          "output_type": "stream",
          "name": "stdout",
          "text": [
            "2\n"
          ]
        }
      ]
    },
    {
      "cell_type": "markdown",
      "source": [
        "# Multiplication"
      ],
      "metadata": {
        "id": "oKAeJQtFrwC7"
      }
    },
    {
      "cell_type": "code",
      "source": [
        "x = 5\n",
        "y = 3\n",
        "\n",
        "print(x * y)"
      ],
      "metadata": {
        "colab": {
          "base_uri": "https://localhost:8080/"
        },
        "id": "C4hzToDJrxTm",
        "outputId": "a1db8fdc-63bc-490f-e7bc-6ced6d35282d"
      },
      "execution_count": null,
      "outputs": [
        {
          "output_type": "stream",
          "name": "stdout",
          "text": [
            "15\n"
          ]
        }
      ]
    },
    {
      "cell_type": "markdown",
      "source": [
        "# \tDivision"
      ],
      "metadata": {
        "id": "YYLVe5KMr036"
      }
    },
    {
      "cell_type": "code",
      "source": [
        "x = 12\n",
        "y = 3\n",
        "\n",
        "print(x / y)\n"
      ],
      "metadata": {
        "colab": {
          "base_uri": "https://localhost:8080/"
        },
        "id": "aMtxqhiCr3Ti",
        "outputId": "035713ab-4598-4a7b-f05a-a69b4dc5be48"
      },
      "execution_count": null,
      "outputs": [
        {
          "output_type": "stream",
          "name": "stdout",
          "text": [
            "4.0\n"
          ]
        }
      ]
    },
    {
      "cell_type": "code",
      "source": [],
      "metadata": {
        "id": "RTFyNuEer533"
      },
      "execution_count": null,
      "outputs": []
    },
    {
      "cell_type": "markdown",
      "source": [
        "# Modulus"
      ],
      "metadata": {
        "id": "Zo3I7DMtr9CF"
      }
    },
    {
      "cell_type": "code",
      "source": [
        "x = 5\n",
        "y = 2\n",
        "\n",
        "print(x % y)"
      ],
      "metadata": {
        "colab": {
          "base_uri": "https://localhost:8080/"
        },
        "id": "ncrzphF_r-Sd",
        "outputId": "442c60c1-5f15-4d18-8705-443c969d94bc"
      },
      "execution_count": null,
      "outputs": [
        {
          "output_type": "stream",
          "name": "stdout",
          "text": [
            "1\n"
          ]
        }
      ]
    },
    {
      "cell_type": "markdown",
      "source": [
        "# Exponentiation"
      ],
      "metadata": {
        "id": "em7BNctosEFS"
      }
    },
    {
      "cell_type": "code",
      "source": [
        "x = 2\n",
        "y = 5\n",
        "\n",
        "print(x ** y) #same as 2*2*2*2*2"
      ],
      "metadata": {
        "colab": {
          "base_uri": "https://localhost:8080/"
        },
        "id": "_0IlfEzysF0U",
        "outputId": "448bf3d9-11d2-4268-88a0-43080bdf19d2"
      },
      "execution_count": null,
      "outputs": [
        {
          "output_type": "stream",
          "name": "stdout",
          "text": [
            "32\n"
          ]
        }
      ]
    },
    {
      "cell_type": "markdown",
      "source": [
        "# \tFloor division"
      ],
      "metadata": {
        "id": "bed3FvTjsQ_f"
      }
    },
    {
      "cell_type": "code",
      "source": [
        "x = 15\n",
        "y = 2\n",
        "\n",
        "print(x // y)\n",
        "\n",
        "#the floor division // rounds the result down to the nearest whole number"
      ],
      "metadata": {
        "colab": {
          "base_uri": "https://localhost:8080/"
        },
        "id": "pr3k1fvPsSmW",
        "outputId": "d012338f-6cdc-46f1-abd2-b1d6c039de86"
      },
      "execution_count": null,
      "outputs": [
        {
          "output_type": "stream",
          "name": "stdout",
          "text": [
            "7\n"
          ]
        }
      ]
    },
    {
      "cell_type": "markdown",
      "source": [
        "# Python Assignment Operators"
      ],
      "metadata": {
        "id": "KN_hMO_2sZCA"
      }
    },
    {
      "cell_type": "code",
      "source": [
        "x = 5\n",
        "\n",
        "print(x)"
      ],
      "metadata": {
        "colab": {
          "base_uri": "https://localhost:8080/"
        },
        "id": "cIUQ2ox-sadT",
        "outputId": "9a0f5bd7-697c-41dd-e2b9-b72ed7086362"
      },
      "execution_count": null,
      "outputs": [
        {
          "output_type": "stream",
          "name": "stdout",
          "text": [
            "5\n"
          ]
        }
      ]
    },
    {
      "cell_type": "code",
      "source": [
        "x = 5\n",
        "\n",
        "x += 3\n",
        "\n",
        "print(x)"
      ],
      "metadata": {
        "colab": {
          "base_uri": "https://localhost:8080/"
        },
        "id": "fo3OhT_mshEg",
        "outputId": "9837c933-1fbe-49fb-e2b1-0bb99eea8507"
      },
      "execution_count": null,
      "outputs": [
        {
          "output_type": "stream",
          "name": "stdout",
          "text": [
            "8\n"
          ]
        }
      ]
    },
    {
      "cell_type": "code",
      "source": [
        "x = 5\n",
        "\n",
        "x -= 3\n",
        "\n",
        "print(x)\n"
      ],
      "metadata": {
        "colab": {
          "base_uri": "https://localhost:8080/"
        },
        "id": "vBkcZBsYskFE",
        "outputId": "01789007-ba9f-43b5-a3a6-ccfd032f0dd3"
      },
      "execution_count": null,
      "outputs": [
        {
          "output_type": "stream",
          "name": "stdout",
          "text": [
            "2\n"
          ]
        }
      ]
    },
    {
      "cell_type": "code",
      "source": [
        "x = 5\n",
        "\n",
        "x *= 3\n",
        "\n",
        "print(x)\n"
      ],
      "metadata": {
        "colab": {
          "base_uri": "https://localhost:8080/"
        },
        "id": "0qroiswksn-6",
        "outputId": "8522f08f-cdaf-413e-fb8d-8f5ea173d68f"
      },
      "execution_count": null,
      "outputs": [
        {
          "output_type": "stream",
          "name": "stdout",
          "text": [
            "15\n"
          ]
        }
      ]
    },
    {
      "cell_type": "code",
      "source": [
        "x = 5\n",
        "\n",
        "x /= 3\n",
        "\n",
        "print(x)"
      ],
      "metadata": {
        "colab": {
          "base_uri": "https://localhost:8080/"
        },
        "id": "2SxTpQpotZwK",
        "outputId": "a22661d3-5d61-49dc-ec74-762280d2d001"
      },
      "execution_count": null,
      "outputs": [
        {
          "output_type": "stream",
          "name": "stdout",
          "text": [
            "1.6666666666666667\n"
          ]
        }
      ]
    },
    {
      "cell_type": "code",
      "source": [
        "x = 5\n",
        "\n",
        "x%=3\n",
        "\n",
        "print(x)\n"
      ],
      "metadata": {
        "colab": {
          "base_uri": "https://localhost:8080/"
        },
        "id": "zcQ98J_1tdJG",
        "outputId": "13ce1a14-c322-406f-edf7-46424b993dc7"
      },
      "execution_count": null,
      "outputs": [
        {
          "output_type": "stream",
          "name": "stdout",
          "text": [
            "2\n"
          ]
        }
      ]
    },
    {
      "cell_type": "code",
      "source": [
        "x = 5\n",
        "\n",
        "x//=3\n",
        "\n",
        "print(x)"
      ],
      "metadata": {
        "colab": {
          "base_uri": "https://localhost:8080/"
        },
        "id": "jjqwi0Trt0pP",
        "outputId": "2987ff21-c223-41c0-b123-03ff13f74734"
      },
      "execution_count": null,
      "outputs": [
        {
          "output_type": "stream",
          "name": "stdout",
          "text": [
            "1\n"
          ]
        }
      ]
    },
    {
      "cell_type": "code",
      "source": [
        "x = 5\n",
        "\n",
        "x **= 3\n",
        "\n",
        "print(x)\n"
      ],
      "metadata": {
        "colab": {
          "base_uri": "https://localhost:8080/"
        },
        "id": "gaczYxjet3o2",
        "outputId": "6cafb7a0-79ee-4c0f-98cc-43a905b72950"
      },
      "execution_count": null,
      "outputs": [
        {
          "output_type": "stream",
          "name": "stdout",
          "text": [
            "125\n"
          ]
        }
      ]
    },
    {
      "cell_type": "code",
      "source": [
        "x = 5\n",
        "\n",
        "x &= 3\n",
        "\n",
        "print(x)"
      ],
      "metadata": {
        "colab": {
          "base_uri": "https://localhost:8080/"
        },
        "id": "66Qf6V3vt7Fa",
        "outputId": "1bb74892-a808-4e5b-d43e-4de0c084da06"
      },
      "execution_count": null,
      "outputs": [
        {
          "output_type": "stream",
          "name": "stdout",
          "text": [
            "1\n"
          ]
        }
      ]
    },
    {
      "cell_type": "code",
      "source": [
        "x = 5\n",
        "\n",
        "x |= 3\n",
        "\n",
        "print(x)"
      ],
      "metadata": {
        "colab": {
          "base_uri": "https://localhost:8080/"
        },
        "id": "dwUJjJXlt-WU",
        "outputId": "daab94ec-af10-4d00-cd6d-effa991f7d11"
      },
      "execution_count": null,
      "outputs": [
        {
          "output_type": "stream",
          "name": "stdout",
          "text": [
            "7\n"
          ]
        }
      ]
    },
    {
      "cell_type": "code",
      "source": [
        "x = 5\n",
        "\n",
        "x ^= 3\n",
        "\n",
        "print(x)"
      ],
      "metadata": {
        "colab": {
          "base_uri": "https://localhost:8080/"
        },
        "id": "-YBLdq7OuC7D",
        "outputId": "ade8c342-23c7-4f0a-de13-20937b56502f"
      },
      "execution_count": null,
      "outputs": [
        {
          "output_type": "stream",
          "name": "stdout",
          "text": [
            "6\n"
          ]
        }
      ]
    },
    {
      "cell_type": "code",
      "source": [
        "x = 5\n",
        "\n",
        "x >>= 3\n",
        "\n",
        "print(x)"
      ],
      "metadata": {
        "colab": {
          "base_uri": "https://localhost:8080/"
        },
        "id": "RHVN3lvnuGbx",
        "outputId": "7515e4bf-2897-4ce6-bf15-398ff531ffda"
      },
      "execution_count": null,
      "outputs": [
        {
          "output_type": "stream",
          "name": "stdout",
          "text": [
            "0\n"
          ]
        }
      ]
    },
    {
      "cell_type": "code",
      "source": [
        "x = 5\n",
        "\n",
        "x <<= 3\n",
        "\n",
        "print(x)"
      ],
      "metadata": {
        "colab": {
          "base_uri": "https://localhost:8080/"
        },
        "id": "Vg_CdznpuKHD",
        "outputId": "43cef76e-d0d2-4bb7-bf5a-5113477d5917"
      },
      "execution_count": null,
      "outputs": [
        {
          "output_type": "stream",
          "name": "stdout",
          "text": [
            "40\n"
          ]
        }
      ]
    },
    {
      "cell_type": "markdown",
      "source": [
        "# Python Comparison Operators"
      ],
      "metadata": {
        "id": "iyZaLOf2uSQx"
      }
    },
    {
      "cell_type": "code",
      "source": [
        "x = 5\n",
        "y = 3\n",
        "\n",
        "print(x == y)\n",
        "\n",
        "# returns False because 5 is not equal to 3\n"
      ],
      "metadata": {
        "colab": {
          "base_uri": "https://localhost:8080/"
        },
        "id": "GeQ16CiSuTqq",
        "outputId": "0d3f6da0-e797-4c48-870c-3d69df1d6fe4"
      },
      "execution_count": null,
      "outputs": [
        {
          "output_type": "stream",
          "name": "stdout",
          "text": [
            "False\n"
          ]
        }
      ]
    },
    {
      "cell_type": "code",
      "source": [
        "x = 5\n",
        "y = 3\n",
        "\n",
        "print(x != y)\n",
        "\n",
        "# returns True because 5 is not equal to 3"
      ],
      "metadata": {
        "colab": {
          "base_uri": "https://localhost:8080/"
        },
        "id": "glPoIYUSuYJW",
        "outputId": "0a98ece3-7623-4d73-cefb-f56cfbb71aa0"
      },
      "execution_count": null,
      "outputs": [
        {
          "output_type": "stream",
          "name": "stdout",
          "text": [
            "True\n"
          ]
        }
      ]
    },
    {
      "cell_type": "code",
      "source": [
        "x = 5\n",
        "y = 3\n",
        "\n",
        "print(x > y)\n",
        "\n",
        "# returns True because 5 is greater than 3"
      ],
      "metadata": {
        "colab": {
          "base_uri": "https://localhost:8080/"
        },
        "id": "7N0l24_xv4SK",
        "outputId": "f648eaf0-291b-4de9-b50e-fc113edace2d"
      },
      "execution_count": null,
      "outputs": [
        {
          "output_type": "stream",
          "name": "stdout",
          "text": [
            "True\n"
          ]
        }
      ]
    },
    {
      "cell_type": "code",
      "source": [
        "x = 5\n",
        "y = 3\n",
        "\n",
        "print(x < y)\n",
        "\n",
        "# returns False because 5 is not less than 3"
      ],
      "metadata": {
        "colab": {
          "base_uri": "https://localhost:8080/"
        },
        "id": "ZWlmS8dEv8Pn",
        "outputId": "e28e1e4f-51b6-4801-e8f3-e4335d3ed0c1"
      },
      "execution_count": null,
      "outputs": [
        {
          "output_type": "stream",
          "name": "stdout",
          "text": [
            "False\n"
          ]
        }
      ]
    },
    {
      "cell_type": "code",
      "source": [
        "x = 5\n",
        "y = 3\n",
        "\n",
        "print(x >= y)\n",
        "\n",
        "# returns True because five is greater, or equal, to 3"
      ],
      "metadata": {
        "colab": {
          "base_uri": "https://localhost:8080/"
        },
        "id": "Eg0XiJGZwCLG",
        "outputId": "edd2900a-e6c4-4c55-bca7-4bbd742332c7"
      },
      "execution_count": null,
      "outputs": [
        {
          "output_type": "stream",
          "name": "stdout",
          "text": [
            "True\n"
          ]
        }
      ]
    },
    {
      "cell_type": "code",
      "source": [
        "x = 5\n",
        "y = 3\n",
        "\n",
        "print(x <= y)\n",
        "\n",
        "# returns False because 5 is neither less than or equal to 3\n"
      ],
      "metadata": {
        "colab": {
          "base_uri": "https://localhost:8080/"
        },
        "id": "qox-z2KOwHTZ",
        "outputId": "6517da7a-388a-49ce-d41f-c292683c0266"
      },
      "execution_count": null,
      "outputs": [
        {
          "output_type": "stream",
          "name": "stdout",
          "text": [
            "False\n"
          ]
        }
      ]
    },
    {
      "cell_type": "markdown",
      "source": [
        "# Python Logical Operators"
      ],
      "metadata": {
        "id": "0pPJVCQEwOFZ"
      }
    },
    {
      "cell_type": "markdown",
      "source": [
        "## And\n",
        "Returns True if both statements are true"
      ],
      "metadata": {
        "id": "8-be9Rn3wYxS"
      }
    },
    {
      "cell_type": "code",
      "source": [
        "x = 5\n",
        "\n",
        "print(x > 3 and x < 10)\n",
        "\n",
        "# returns True because 5 is greater than 3 AND 5 is less than 10"
      ],
      "metadata": {
        "colab": {
          "base_uri": "https://localhost:8080/"
        },
        "id": "QZBz-a0WweWD",
        "outputId": "04331bc5-1104-4f93-c6f1-725eb0de9a51"
      },
      "execution_count": null,
      "outputs": [
        {
          "output_type": "stream",
          "name": "stdout",
          "text": [
            "True\n"
          ]
        }
      ]
    },
    {
      "cell_type": "markdown",
      "source": [
        "## Or\n",
        "Returns True if one of the statements is true"
      ],
      "metadata": {
        "id": "6q8kl0JAwizL"
      }
    },
    {
      "cell_type": "code",
      "source": [
        "x = 5\n",
        "\n",
        "print(x > 3 or x < 4)\n",
        "\n",
        "# returns True because one of the conditions are true (5 is greater than 3, but 5 is not less than 4)\n"
      ],
      "metadata": {
        "colab": {
          "base_uri": "https://localhost:8080/"
        },
        "id": "TmYLM9VUwpbK",
        "outputId": "cdbece48-7bc5-4017-cea1-1ec2b7c49263"
      },
      "execution_count": null,
      "outputs": [
        {
          "output_type": "stream",
          "name": "stdout",
          "text": [
            "True\n"
          ]
        }
      ]
    },
    {
      "cell_type": "markdown",
      "source": [
        "## Not\n",
        "Reverse the result, returns False if the result is true"
      ],
      "metadata": {
        "id": "4fpyCi4awvzl"
      }
    },
    {
      "cell_type": "code",
      "source": [
        "x = 5\n",
        "\n",
        "print(not(x > 3 and x < 10))\n",
        "\n",
        "# returns False because not is used to reverse the result\n"
      ],
      "metadata": {
        "colab": {
          "base_uri": "https://localhost:8080/"
        },
        "id": "L-UkMmKIw0qS",
        "outputId": "8c329935-6f67-44a9-b2a0-c4d34b8b287e"
      },
      "execution_count": null,
      "outputs": [
        {
          "output_type": "stream",
          "name": "stdout",
          "text": [
            "False\n"
          ]
        }
      ]
    },
    {
      "cell_type": "markdown",
      "source": [
        "# Python Identity Operators\n",
        "Identity operators are used to compare the objects, not if they are equal, but if they are actually the same object, with the same memory location:"
      ],
      "metadata": {
        "id": "KP-BvDcKw7lc"
      }
    },
    {
      "cell_type": "markdown",
      "source": [
        "# is\n",
        "Returns True if both variables are the same object"
      ],
      "metadata": {
        "id": "3dURlgNjxGlB"
      }
    },
    {
      "cell_type": "code",
      "source": [
        "x = [\"apple\", \"banana\"]\n",
        "y = [\"apple\", \"banana\"]\n",
        "z = x\n",
        "\n",
        "print(x is z)\n",
        "\n",
        "# returns True because z is the same object as x\n",
        "\n",
        "print(x is y)\n",
        "\n",
        "# returns False because x is not the same object as y, even if they have the same content\n",
        "\n",
        "print(x == y)\n",
        "\n",
        "# to demonstrate the difference betweeen \"is\" and \"==\": this comparison returns True because x is equal to y\n"
      ],
      "metadata": {
        "colab": {
          "base_uri": "https://localhost:8080/"
        },
        "id": "AdQFx9TcxKaf",
        "outputId": "742bbdc5-977c-4c80-ad1e-e2d68181e52f"
      },
      "execution_count": null,
      "outputs": [
        {
          "output_type": "stream",
          "name": "stdout",
          "text": [
            "True\n",
            "False\n",
            "True\n"
          ]
        }
      ]
    },
    {
      "cell_type": "code",
      "source": [
        "x = [\"apple\", \"banana\"]\n",
        "y = [\"apple\", \"Mango\"]\n",
        "z=x\n",
        "print(z is x)\n",
        "print(x is y)\n",
        "print(x==y)\n"
      ],
      "metadata": {
        "id": "t6lGoL2DxQYg",
        "colab": {
          "base_uri": "https://localhost:8080/"
        },
        "outputId": "d2c0987e-302b-470e-f402-60a9db93bace"
      },
      "execution_count": 4,
      "outputs": [
        {
          "output_type": "stream",
          "name": "stdout",
          "text": [
            "True\n",
            "False\n",
            "False\n"
          ]
        }
      ]
    },
    {
      "cell_type": "markdown",
      "source": [
        "# is not\n",
        "Returns True if both variables are not the same object"
      ],
      "metadata": {
        "id": "CwdmoDzpxZYx"
      }
    },
    {
      "cell_type": "code",
      "source": [
        "x = [\"apple\", \"banana\"]\n",
        "y = [\"apple\", \"banana\"]\n",
        "z = x\n",
        "\n",
        "print(x is not z)\n",
        "\n",
        "# returns False because z is the same object as x\n",
        "\n",
        "print(x is not y)\n",
        "\n",
        "# returns True because x is not the same object as y, even if they have the same content\n",
        "\n",
        "print(x != y)\n",
        "\n",
        "# to demonstrate the difference betweeen \"is not\" and \"!=\": this comparison returns False because x is equal to y\n"
      ],
      "metadata": {
        "colab": {
          "base_uri": "https://localhost:8080/"
        },
        "id": "TNSHlR1UxdCD",
        "outputId": "a6bc2678-9a74-4df1-e55f-753493a29d76"
      },
      "execution_count": null,
      "outputs": [
        {
          "output_type": "stream",
          "name": "stdout",
          "text": [
            "False\n",
            "True\n",
            "False\n"
          ]
        }
      ]
    },
    {
      "cell_type": "markdown",
      "source": [
        "# Python Membership Operators\n",
        "Membership operators are used to test if a sequence is presented in an object:"
      ],
      "metadata": {
        "id": "b5hhds2ExiW5"
      }
    },
    {
      "cell_type": "markdown",
      "source": [
        "# In\n",
        "Returns True if a sequence with the specified value is present in the object"
      ],
      "metadata": {
        "id": "d0wSp9yaxndL"
      }
    },
    {
      "cell_type": "code",
      "source": [
        "x = [\"apple\", \"banana\"]\n",
        "\n",
        "print(\"banana\" in x)\n",
        "\n",
        "# returns True because a sequence with the value \"banana\" is in the list"
      ],
      "metadata": {
        "colab": {
          "base_uri": "https://localhost:8080/"
        },
        "id": "l4VD8UKWxrn1",
        "outputId": "04549b75-2476-47f9-e3c0-7af1522ad3b7"
      },
      "execution_count": null,
      "outputs": [
        {
          "output_type": "stream",
          "name": "stdout",
          "text": [
            "True\n"
          ]
        }
      ]
    },
    {
      "cell_type": "markdown",
      "source": [
        "# not in\n",
        "Returns True if a sequence with the specified value is not present in the object"
      ],
      "metadata": {
        "id": "yorOdYJexw5M"
      }
    },
    {
      "cell_type": "code",
      "source": [
        "x = [\"apple\", \"banana\"]\n",
        "\n",
        "print(\"pineapple\" not in x)\n",
        "\n",
        "# returns True because a sequence with the value \"pineapple\" is not in the list\n"
      ],
      "metadata": {
        "colab": {
          "base_uri": "https://localhost:8080/"
        },
        "id": "9BuE0Rjpx0Vt",
        "outputId": "6f68f911-5bff-407b-b1a5-e16feeac0149"
      },
      "execution_count": null,
      "outputs": [
        {
          "output_type": "stream",
          "name": "stdout",
          "text": [
            "True\n"
          ]
        }
      ]
    },
    {
      "cell_type": "markdown",
      "source": [
        "# Python Bitwise Operators\n",
        "Bitwise operators are used to compare (binary) numbers:"
      ],
      "metadata": {
        "id": "VJo31QQjx5CO"
      }
    },
    {
      "cell_type": "markdown",
      "source": [
        "& \tAND\tSets each bit to 1 if both bits are 1"
      ],
      "metadata": {
        "id": "KoXB9nXryBgQ"
      }
    },
    {
      "cell_type": "code",
      "source": [
        "print(6 & 3)\n",
        "\n",
        "\n",
        "\n",
        "\"\"\"\n",
        "The & operator compares each bit and set it to 1 if both are 1, otherwise it is set to 0:\n",
        "\n",
        "6 = 0000000000000110\n",
        "3 = 0000000000000011\n",
        "--------------------\n",
        "2 = 0000000000000010\n",
        "====================\n",
        "\n",
        "Decimal numbers and their binary values:\n",
        "0 = 0000000000000000\n",
        "1 = 0000000000000001\n",
        "2 = 0000000000000010\n",
        "3 = 0000000000000011\n",
        "4 = 0000000000000100\n",
        "5 = 0000000000000101\n",
        "6 = 0000000000000110\n",
        "7 = 0000000000000111\"\"\""
      ],
      "metadata": {
        "colab": {
          "base_uri": "https://localhost:8080/",
          "height": 140
        },
        "id": "yg9efDZxyEAu",
        "outputId": "7cd80a77-af0e-408e-952e-401f66f6da5a"
      },
      "execution_count": null,
      "outputs": [
        {
          "output_type": "stream",
          "name": "stdout",
          "text": [
            "2\n"
          ]
        },
        {
          "output_type": "execute_result",
          "data": {
            "text/plain": [
              "'\\nThe & operator compares each bit and set it to 1 if both are 1, otherwise it is set to 0:\\n\\n6 = 0000000000000110\\n3 = 0000000000000011\\n--------------------\\n2 = 0000000000000010\\n====================\\n\\nDecimal numbers and their binary values:\\n0 = 0000000000000000\\n1 = 0000000000000001\\n2 = 0000000000000010\\n3 = 0000000000000011\\n4 = 0000000000000100\\n5 = 0000000000000101\\n6 = 0000000000000110\\n7 = 0000000000000111'"
            ],
            "application/vnd.google.colaboratory.intrinsic+json": {
              "type": "string"
            }
          },
          "metadata": {},
          "execution_count": 37
        }
      ]
    },
    {
      "cell_type": "markdown",
      "source": [
        "# |\tOR\tSets each bit to 1 if one of two bits is 1"
      ],
      "metadata": {
        "id": "N3C3LRPByRpy"
      }
    },
    {
      "cell_type": "code",
      "source": [
        "print(6 | 3)\n",
        "\n",
        "\n",
        "\n",
        "\"\"\"\n",
        "The | operator compares each bit and set it to 1 if one or both is 1, otherwise it is set to 0:\n",
        "\n",
        "6 = 0000000000000110\n",
        "3 = 0000000000000011\n",
        "--------------------\n",
        "7 = 0000000000000111\n",
        "====================\n",
        "\n",
        "Decimal numbers and their binary values:\n",
        "0 = 0000000000000000\n",
        "1 = 0000000000000001\n",
        "2 = 0000000000000010\n",
        "3 = 0000000000000011\n",
        "4 = 0000000000000100\n",
        "5 = 0000000000000101\n",
        "6 = 0000000000000110\n",
        "7 = 0000000000000111\n",
        "\"\"\"\n"
      ],
      "metadata": {
        "colab": {
          "base_uri": "https://localhost:8080/",
          "height": 140
        },
        "id": "oWhgk7QtyS6c",
        "outputId": "a8d7d3df-3eae-410a-d915-c1c8203870b8"
      },
      "execution_count": null,
      "outputs": [
        {
          "output_type": "stream",
          "name": "stdout",
          "text": [
            "7\n"
          ]
        },
        {
          "output_type": "execute_result",
          "data": {
            "text/plain": [
              "'\\nThe | operator compares each bit and set it to 1 if one or both is 1, otherwise it is set to 0:\\n\\n6 = 0000000000000110\\n3 = 0000000000000011\\n--------------------\\n7 = 0000000000000111\\n====================\\n\\nDecimal numbers and their binary values:\\n0 = 0000000000000000\\n1 = 0000000000000001\\n2 = 0000000000000010\\n3 = 0000000000000011\\n4 = 0000000000000100\\n5 = 0000000000000101\\n6 = 0000000000000110\\n7 = 0000000000000111\\n'"
            ],
            "application/vnd.google.colaboratory.intrinsic+json": {
              "type": "string"
            }
          },
          "metadata": {},
          "execution_count": 38
        }
      ]
    },
    {
      "cell_type": "markdown",
      "source": [
        "^\tXOR\tSets each bit to 1 if only one of two bits is 1"
      ],
      "metadata": {
        "id": "WcolHxgSyZno"
      }
    },
    {
      "cell_type": "code",
      "source": [
        "print(6 ^ 3)\n",
        "\n",
        "\n",
        "\n",
        "\"\"\"\n",
        "The ^ operator compares each bit and set it to 1 if only one is 1, otherwise (if both are 1 or both are 0) it is set to 0:\n",
        "\n",
        "6 = 0000000000000110\n",
        "3 = 0000000000000011\n",
        "--------------------\n",
        "5 = 0000000000000101\n",
        "====================\n",
        "\n",
        "Decimal numbers and their binary values:\n",
        "0 = 0000000000000000\n",
        "1 = 0000000000000001\n",
        "2 = 0000000000000010\n",
        "3 = 0000000000000011\n",
        "4 = 0000000000000100\n",
        "5 = 0000000000000101\n",
        "6 = 0000000000000110\n",
        "7 = 0000000000000111\n",
        "\"\"\"\n",
        "\n"
      ],
      "metadata": {
        "colab": {
          "base_uri": "https://localhost:8080/",
          "height": 140
        },
        "id": "DnEjeAv9yamT",
        "outputId": "3f0cd20c-f296-4496-d4a2-fb6c759abf20"
      },
      "execution_count": null,
      "outputs": [
        {
          "output_type": "stream",
          "name": "stdout",
          "text": [
            "5\n"
          ]
        },
        {
          "output_type": "execute_result",
          "data": {
            "text/plain": [
              "'\\nThe ^ operator compares each bit and set it to 1 if only one is 1, otherwise (if both are 1 or both are 0) it is set to 0:\\n\\n6 = 0000000000000110\\n3 = 0000000000000011\\n--------------------\\n5 = 0000000000000101\\n====================\\n\\nDecimal numbers and their binary values:\\n0 = 0000000000000000\\n1 = 0000000000000001\\n2 = 0000000000000010\\n3 = 0000000000000011\\n4 = 0000000000000100\\n5 = 0000000000000101\\n6 = 0000000000000110\\n7 = 0000000000000111\\n'"
            ],
            "application/vnd.google.colaboratory.intrinsic+json": {
              "type": "string"
            }
          },
          "metadata": {},
          "execution_count": 39
        }
      ]
    },
    {
      "cell_type": "markdown",
      "source": [
        "~\tNOT\tInverts all the bits"
      ],
      "metadata": {
        "id": "uQxnU9GgygUq"
      }
    },
    {
      "cell_type": "code",
      "source": [
        "print(~3)\n",
        "\n",
        "\n",
        "\n",
        "\"\"\"\n",
        "The ~ operator inverts each bit (0 becomes 1 and 1 becomes 0).\n",
        "\n",
        "Inverted 3 becomes -4:\n",
        " 3 = 0000000000000011\n",
        "-4 = 1111111111111100\n",
        "\n",
        "Decimal numbers and their binary values:\n",
        " 4 = 0000000000000100\n",
        " 3 = 0000000000000011\n",
        " 2 = 0000000000000010\n",
        " 1 = 0000000000000001\n",
        " 0 = 0000000000000000\n",
        "-1 = 1111111111111111\n",
        "-2 = 1111111111111110\n",
        "-3 = 1111111111111101\n",
        "-4 = 1111111111111100\n",
        "\"\"\""
      ],
      "metadata": {
        "colab": {
          "base_uri": "https://localhost:8080/",
          "height": 122
        },
        "id": "zjO5KY6JyhV6",
        "outputId": "f58f1c76-65fa-4866-f6d2-0866b88779c6"
      },
      "execution_count": null,
      "outputs": [
        {
          "output_type": "stream",
          "name": "stdout",
          "text": [
            "-4\n"
          ]
        },
        {
          "output_type": "execute_result",
          "data": {
            "text/plain": [
              "'\\nThe ~ operator inverts each bit (0 becomes 1 and 1 becomes 0).\\n\\nInverted 3 becomes -4:\\n 3 = 0000000000000011\\n-4 = 1111111111111100\\n\\nDecimal numbers and their binary values:\\n 4 = 0000000000000100\\n 3 = 0000000000000011\\n 2 = 0000000000000010\\n 1 = 0000000000000001\\n 0 = 0000000000000000\\n-1 = 1111111111111111\\n-2 = 1111111111111110\\n-3 = 1111111111111101\\n-4 = 1111111111111100\\n'"
            ],
            "application/vnd.google.colaboratory.intrinsic+json": {
              "type": "string"
            }
          },
          "metadata": {},
          "execution_count": 40
        }
      ]
    },
    {
      "cell_type": "markdown",
      "source": [
        "# <<\tZero fill left shift\tShift left by pushing zeros in from the right and let the leftmost bits fall off"
      ],
      "metadata": {
        "id": "Zz-2M9dfyolm"
      }
    },
    {
      "cell_type": "code",
      "source": [
        "print(3 << 2)\n",
        "\n",
        "\n",
        "\n",
        "\"\"\"\n",
        "The << operator inserts the specified number of 0's (in this case 2) from the right and let the same amount of leftmost bits fall off:\n",
        "\n",
        "If you push 00 in from the left:\n",
        " 3 = 0000000000000011\n",
        "becomes\n",
        "12 = 0000000000001100\n",
        "\n",
        "Decimal numbers and their binary values:\n",
        " 0 = 0000000000000000\n",
        " 1 = 0000000000000001\n",
        " 2 = 0000000000000010\n",
        " 3 = 0000000000000011\n",
        " 4 = 0000000000000100\n",
        " 5 = 0000000000000101\n",
        " 6 = 0000000000000110\n",
        " 7 = 0000000000000111\n",
        " 8 = 0000000000001000\n",
        " 9 = 0000000000001001\n",
        "10 = 0000000000001010\n",
        "11 = 0000000000001011\n",
        "12 = 0000000000001100\n",
        "\"\"\""
      ],
      "metadata": {
        "colab": {
          "base_uri": "https://localhost:8080/",
          "height": 157
        },
        "id": "sMMD_qJYyql4",
        "outputId": "b4928a5c-4df7-4c49-b6b0-597d5b96144f"
      },
      "execution_count": null,
      "outputs": [
        {
          "output_type": "stream",
          "name": "stdout",
          "text": [
            "12\n"
          ]
        },
        {
          "output_type": "execute_result",
          "data": {
            "text/plain": [
              "\"\\nThe << operator inserts the specified number of 0's (in this case 2) from the right and let the same amount of leftmost bits fall off:\\n\\nIf you push 00 in from the left:\\n 3 = 0000000000000011\\nbecomes\\n12 = 0000000000001100\\n\\nDecimal numbers and their binary values:\\n 0 = 0000000000000000\\n 1 = 0000000000000001\\n 2 = 0000000000000010\\n 3 = 0000000000000011\\n 4 = 0000000000000100\\n 5 = 0000000000000101\\n 6 = 0000000000000110\\n 7 = 0000000000000111\\n 8 = 0000000000001000\\n 9 = 0000000000001001\\n10 = 0000000000001010\\n11 = 0000000000001011\\n12 = 0000000000001100\\n\""
            ],
            "application/vnd.google.colaboratory.intrinsic+json": {
              "type": "string"
            }
          },
          "metadata": {},
          "execution_count": 41
        }
      ]
    },
    {
      "cell_type": "markdown",
      "source": [
        "# >>\tSigned right shift\tShift right by pushing copies of the leftmost bit in from the left, and let the rightmost bits fall off"
      ],
      "metadata": {
        "id": "ZXcTlko8y7nq"
      }
    },
    {
      "cell_type": "code",
      "source": [
        "print(8 >> 2)\n",
        "\n",
        "\n",
        "\n",
        "\"\"\"\n",
        "The >> operator moves each bit the specified number of times to the right. Empty holes at the left are filled with 0's.\n",
        "\n",
        "If you move each bit 2 times to the right, 8 becomes 2:\n",
        " 8 = 0000000000001000\n",
        "becomes\n",
        " 2 = 0000000000000010\n",
        "\n",
        "Decimal numbers and their binary values:\n",
        " 0 = 0000000000000000\n",
        " 1 = 0000000000000001\n",
        " 2 = 0000000000000010\n",
        " 3 = 0000000000000011\n",
        " 4 = 0000000000000100\n",
        " 5 = 0000000000000101\n",
        " 6 = 0000000000000110\n",
        " 7 = 0000000000000111\n",
        " 8 = 0000000000001000\n",
        " 9 = 0000000000001001\n",
        "10 = 0000000000001010\n",
        "11 = 0000000000001011\n",
        "12 = 0000000000001100\n",
        "\"\"\""
      ],
      "metadata": {
        "colab": {
          "base_uri": "https://localhost:8080/",
          "height": 174
        },
        "id": "as_GzMn2y9OQ",
        "outputId": "07124252-3eec-48d2-c17c-6de170419351"
      },
      "execution_count": null,
      "outputs": [
        {
          "output_type": "stream",
          "name": "stdout",
          "text": [
            "2\n"
          ]
        },
        {
          "output_type": "execute_result",
          "data": {
            "text/plain": [
              "\"\\nThe >> operator moves each bit the specified number of times to the right. Empty holes at the left are filled with 0's.\\n\\nIf you move each bit 2 times to the right, 8 becomes 2:\\n 8 = 0000000000001000\\nbecomes\\n 2 = 0000000000000010\\n\\nDecimal numbers and their binary values:\\n 0 = 0000000000000000\\n 1 = 0000000000000001\\n 2 = 0000000000000010\\n 3 = 0000000000000011\\n 4 = 0000000000000100\\n 5 = 0000000000000101\\n 6 = 0000000000000110\\n 7 = 0000000000000111\\n 8 = 0000000000001000\\n 9 = 0000000000001001\\n10 = 0000000000001010\\n11 = 0000000000001011\\n12 = 0000000000001100\\n\""
            ],
            "application/vnd.google.colaboratory.intrinsic+json": {
              "type": "string"
            }
          },
          "metadata": {},
          "execution_count": 42
        }
      ]
    },
    {
      "cell_type": "markdown",
      "source": [
        "# Operator Precedence\n",
        "Operator precedence describes the order in which operations are performed."
      ],
      "metadata": {
        "id": "WW1bLQ3BzIoi"
      }
    },
    {
      "cell_type": "markdown",
      "source": [
        "# ()\tParentheses"
      ],
      "metadata": {
        "id": "hKBnXRG3zQei"
      }
    },
    {
      "cell_type": "code",
      "source": [
        "print((6 + 3) - (6 + 3))\n",
        "\n",
        "\"\"\"\n",
        "Parenthesis have the highest precedence, and need to be evaluated first.\n",
        "The calculation above reads 9 - 9 = 0\n",
        "\"\"\""
      ],
      "metadata": {
        "colab": {
          "base_uri": "https://localhost:8080/",
          "height": 70
        },
        "id": "90S6fVwXzR6x",
        "outputId": "a273e90a-af3b-4555-cbb4-4af6629b7b20"
      },
      "execution_count": null,
      "outputs": [
        {
          "output_type": "stream",
          "name": "stdout",
          "text": [
            "0\n"
          ]
        },
        {
          "output_type": "execute_result",
          "data": {
            "text/plain": [
              "'\\nParenthesis have the highest precedence, and need to be evaluated first.\\nThe calculation above reads 9 - 9 = 0\\n'"
            ],
            "application/vnd.google.colaboratory.intrinsic+json": {
              "type": "string"
            }
          },
          "metadata": {},
          "execution_count": 43
        }
      ]
    },
    {
      "cell_type": "markdown",
      "source": [
        "# **\tExponentiation"
      ],
      "metadata": {
        "id": "OZCYeE15z6gZ"
      }
    },
    {
      "cell_type": "code",
      "source": [
        "print(100 - 3 ** 3)\n",
        "\n",
        "\"\"\"\n",
        "Exponentiation has higher precedence than subtraction, and needs to be evaluated first.\n",
        "The calculation above reads 100 - 27 = 73\n",
        "\"\"\""
      ],
      "metadata": {
        "colab": {
          "base_uri": "https://localhost:8080/",
          "height": 70
        },
        "id": "e9-pfJU8z7qC",
        "outputId": "3130362e-791c-4c4e-cb46-380370d2260d"
      },
      "execution_count": null,
      "outputs": [
        {
          "output_type": "stream",
          "name": "stdout",
          "text": [
            "73\n"
          ]
        },
        {
          "output_type": "execute_result",
          "data": {
            "text/plain": [
              "'\\nExponentiation has higher precedence than subtraction, and needs to be evaluated first.\\nThe calculation above reads 100 - 27 = 73\\n'"
            ],
            "application/vnd.google.colaboratory.intrinsic+json": {
              "type": "string"
            }
          },
          "metadata": {},
          "execution_count": 44
        }
      ]
    },
    {
      "cell_type": "markdown",
      "source": [
        "# +x  -x  ~x\tUnary plus, unary minus, and bitwise NOT"
      ],
      "metadata": {
        "id": "3hJuJoes0B-7"
      }
    },
    {
      "cell_type": "code",
      "source": [
        "print(100 + ~3)\n",
        "\n",
        "\"\"\"\n",
        "Bitwise NOT has higher precedence than addition, and needs to be evaluated first.\n",
        "The calculation above reads 100 + -4 = 96\n",
        "\"\"\""
      ],
      "metadata": {
        "colab": {
          "base_uri": "https://localhost:8080/",
          "height": 70
        },
        "id": "M2WIqocQ0DA1",
        "outputId": "2644613d-07ea-4a33-c5b9-a06e42441535"
      },
      "execution_count": null,
      "outputs": [
        {
          "output_type": "stream",
          "name": "stdout",
          "text": [
            "96\n"
          ]
        },
        {
          "output_type": "execute_result",
          "data": {
            "text/plain": [
              "'\\nBitwise NOT has higher precedence than addition, and needs to be evaluated first.\\nThe calculation above reads 100 + -4 = 96\\n'"
            ],
            "application/vnd.google.colaboratory.intrinsic+json": {
              "type": "string"
            }
          },
          "metadata": {},
          "execution_count": 45
        }
      ]
    },
    {
      "cell_type": "markdown",
      "source": [
        " # *  /  //  %\tMultiplication, division, floor division, and modulus"
      ],
      "metadata": {
        "id": "1gt4Xr5Q0KD6"
      }
    },
    {
      "cell_type": "code",
      "source": [
        "print(100 + 5 * 3)\n",
        "\n",
        "\"\"\"\n",
        "Multiplication has higher precedence than addition, and needs to be evaluated first.\n",
        "The calculation above reads 100 + 15 = 115\n",
        "\"\"\""
      ],
      "metadata": {
        "colab": {
          "base_uri": "https://localhost:8080/",
          "height": 70
        },
        "id": "hJiglT8O0K_f",
        "outputId": "128eab39-0f54-4d7b-cd27-4702fd49342a"
      },
      "execution_count": null,
      "outputs": [
        {
          "output_type": "stream",
          "name": "stdout",
          "text": [
            "115\n"
          ]
        },
        {
          "output_type": "execute_result",
          "data": {
            "text/plain": [
              "'\\nMultiplication has higher precedence than addition, and needs to be evaluated first.\\nThe calculation above reads 100 + 15 = 115\\n'"
            ],
            "application/vnd.google.colaboratory.intrinsic+json": {
              "type": "string"
            }
          },
          "metadata": {},
          "execution_count": 46
        }
      ]
    },
    {
      "cell_type": "markdown",
      "source": [
        "# +  -\tAddition and subtraction"
      ],
      "metadata": {
        "id": "_SnCpaQU0UJN"
      }
    },
    {
      "cell_type": "code",
      "source": [
        "print(100 - 5 * 3)\n",
        "\n",
        "\"\"\"\n",
        "Subtraction has a lower precedence than multiplication, and we need to calculate the multiplication first.\n",
        "The calculation above reads 100 - 15 = 85\n",
        "\"\"\""
      ],
      "metadata": {
        "colab": {
          "base_uri": "https://localhost:8080/",
          "height": 70
        },
        "id": "dat7WkKE0Vid",
        "outputId": "45065edc-68a6-494c-d2cd-7bce7771e383"
      },
      "execution_count": null,
      "outputs": [
        {
          "output_type": "stream",
          "name": "stdout",
          "text": [
            "85\n"
          ]
        },
        {
          "output_type": "execute_result",
          "data": {
            "text/plain": [
              "'\\nSubtraction has a lower precedence than multiplication, and we need to calculate the multiplication first.\\nThe calculation above reads 100 - 15 = 85\\n'"
            ],
            "application/vnd.google.colaboratory.intrinsic+json": {
              "type": "string"
            }
          },
          "metadata": {},
          "execution_count": 47
        }
      ]
    },
    {
      "cell_type": "markdown",
      "source": [
        "# <<  >>\tBitwise left and right shifts"
      ],
      "metadata": {
        "id": "sTB6HxyR0aoi"
      }
    },
    {
      "cell_type": "code",
      "source": [
        "print(8 >> 4 - 2)\n",
        "\n",
        "\"\"\"\n",
        "Bitwise right shift has a lower precedence than subtraction, and we need to calculate the subtraction first.\n",
        "The calculation above reads 8 >> 2 = 2\n",
        "\n",
        "More explanation:\n",
        "The >> operator moves each bit the specified number of times to the right. Empty holes at the left are filled with 0's.\n",
        "\n",
        "If you move each bit 2 times to the right, 8 becomes 2:\n",
        " 8 = 0000000000001000\n",
        "becomes\n",
        " 2 = 0000000000000010\n",
        "\n",
        "Decimal numbers and their binary values:\n",
        " 0 = 0000000000000000\n",
        " 1 = 0000000000000001\n",
        " 2 = 0000000000000010\n",
        " 3 = 0000000000000011\n",
        " 4 = 0000000000000100\n",
        " 5 = 0000000000000101\n",
        " 6 = 0000000000000110\n",
        " 7 = 0000000000000111\n",
        " 8 = 0000000000001000\n",
        " 9 = 0000000000001001\n",
        "10 = 0000000000001010\n",
        "11 = 0000000000001011\n",
        "12 = 0000000000001100\n",
        "\"\"\""
      ],
      "metadata": {
        "colab": {
          "base_uri": "https://localhost:8080/",
          "height": 209
        },
        "id": "GyUy_OJM0bt9",
        "outputId": "2b30caa6-e0b0-48bf-bc49-951153c1703a"
      },
      "execution_count": null,
      "outputs": [
        {
          "output_type": "stream",
          "name": "stdout",
          "text": [
            "2\n"
          ]
        },
        {
          "output_type": "execute_result",
          "data": {
            "text/plain": [
              "\"\\nBitwise right shift has a lower precedence than subtraction, and we need to calculate the subtraction first.\\nThe calculation above reads 8 >> 2 = 2\\n\\nMore explanation:\\nThe >> operator moves each bit the specified number of times to the right. Empty holes at the left are filled with 0's.\\n\\nIf you move each bit 2 times to the right, 8 becomes 2:\\n 8 = 0000000000001000\\nbecomes\\n 2 = 0000000000000010\\n\\nDecimal numbers and their binary values:\\n 0 = 0000000000000000\\n 1 = 0000000000000001\\n 2 = 0000000000000010\\n 3 = 0000000000000011\\n 4 = 0000000000000100\\n 5 = 0000000000000101\\n 6 = 0000000000000110\\n 7 = 0000000000000111\\n 8 = 0000000000001000\\n 9 = 0000000000001001\\n10 = 0000000000001010\\n11 = 0000000000001011\\n12 = 0000000000001100\\n\""
            ],
            "application/vnd.google.colaboratory.intrinsic+json": {
              "type": "string"
            }
          },
          "metadata": {},
          "execution_count": 48
        }
      ]
    },
    {
      "cell_type": "markdown",
      "source": [
        "# &\tBitwise AND"
      ],
      "metadata": {
        "id": "gLR3ZDhG0mpf"
      }
    },
    {
      "cell_type": "code",
      "source": [
        "print(6 & 2 + 1)\n",
        "\n",
        "\"\"\"\n",
        "Bitwise AND has a lower precedence than addition, and we need to calculate the addition first.\n",
        "The calculation above reads 6 & 3 = 2\n",
        "\n",
        "More explanation:\n",
        "The & operator compares each bit and set it to 1 if both are 1, otherwise it is set to 0:\n",
        "\n",
        "6 = 0000000000000110\n",
        "3 = 0000000000000011\n",
        "--------------------\n",
        "2 = 0000000000000010\n",
        "====================\n",
        "\n",
        "Decimal numbers and their binary values:\n",
        "0 = 0000000000000000\n",
        "1 = 0000000000000001\n",
        "2 = 0000000000000010\n",
        "3 = 0000000000000011\n",
        "4 = 0000000000000100\n",
        "5 = 0000000000000101\n",
        "6 = 0000000000000110\n",
        "7 = 0000000000000111\n",
        "\"\"\""
      ],
      "metadata": {
        "colab": {
          "base_uri": "https://localhost:8080/",
          "height": 174
        },
        "id": "VprmFwEf0n1X",
        "outputId": "21191b0f-4e2f-47dc-9549-4dd81a0bf311"
      },
      "execution_count": null,
      "outputs": [
        {
          "output_type": "stream",
          "name": "stdout",
          "text": [
            "2\n"
          ]
        },
        {
          "output_type": "execute_result",
          "data": {
            "text/plain": [
              "'\\nBitwise AND has a lower precedence than addition, and we need to calculate the addition first.\\nThe calculation above reads 6 & 3 = 2\\n\\nMore explanation:\\nThe & operator compares each bit and set it to 1 if both are 1, otherwise it is set to 0:\\n\\n6 = 0000000000000110\\n3 = 0000000000000011\\n--------------------\\n2 = 0000000000000010\\n====================\\n\\nDecimal numbers and their binary values:\\n0 = 0000000000000000\\n1 = 0000000000000001\\n2 = 0000000000000010\\n3 = 0000000000000011\\n4 = 0000000000000100\\n5 = 0000000000000101\\n6 = 0000000000000110\\n7 = 0000000000000111\\n'"
            ],
            "application/vnd.google.colaboratory.intrinsic+json": {
              "type": "string"
            }
          },
          "metadata": {},
          "execution_count": 49
        }
      ]
    },
    {
      "cell_type": "markdown",
      "source": [
        "# ^\tBitwise XOR"
      ],
      "metadata": {
        "id": "2PCASgtj0rWH"
      }
    },
    {
      "cell_type": "code",
      "source": [
        "print(6 ^ 2 + 1)\n",
        "\n",
        "\"\"\"\n",
        "Bitwise XOR has a lower precedence than addition, and we need to calculate the addition first.\n",
        "The calculation above reads 6 ^ 3 = 5\n",
        "\n",
        "More explanation:\n",
        "The ^ operator compares each bit and set it to 1 if only one is 1, otherwise (if both are 1 or both are 0) it is set to 0:\n",
        "\n",
        "6 = 0000000000000110\n",
        "3 = 0000000000000011\n",
        "--------------------\n",
        "5 = 0000000000000101\n",
        "====================\n",
        "\n",
        "Decimal numbers and their binary values:\n",
        "0 = 0000000000000000\n",
        "1 = 0000000000000001\n",
        "2 = 0000000000000010\n",
        "3 = 0000000000000011\n",
        "4 = 0000000000000100\n",
        "5 = 0000000000000101\n",
        "6 = 0000000000000110\n",
        "7 = 0000000000000111\n",
        "\"\"\""
      ],
      "metadata": {
        "colab": {
          "base_uri": "https://localhost:8080/",
          "height": 174
        },
        "id": "6MlwGIHC0t3U",
        "outputId": "4a2f2337-60e9-40c2-9920-59881eedc3ec"
      },
      "execution_count": null,
      "outputs": [
        {
          "output_type": "stream",
          "name": "stdout",
          "text": [
            "5\n"
          ]
        },
        {
          "output_type": "execute_result",
          "data": {
            "text/plain": [
              "'\\nBitwise XOR has a lower precedence than addition, and we need to calculate the addition first.\\nThe calculation above reads 6 ^ 3 = 5\\n\\nMore explanation:\\nThe ^ operator compares each bit and set it to 1 if only one is 1, otherwise (if both are 1 or both are 0) it is set to 0:\\n\\n6 = 0000000000000110\\n3 = 0000000000000011\\n--------------------\\n5 = 0000000000000101\\n====================\\n\\nDecimal numbers and their binary values:\\n0 = 0000000000000000\\n1 = 0000000000000001\\n2 = 0000000000000010\\n3 = 0000000000000011\\n4 = 0000000000000100\\n5 = 0000000000000101\\n6 = 0000000000000110\\n7 = 0000000000000111\\n'"
            ],
            "application/vnd.google.colaboratory.intrinsic+json": {
              "type": "string"
            }
          },
          "metadata": {},
          "execution_count": 50
        }
      ]
    },
    {
      "cell_type": "markdown",
      "source": [
        "# |\tBitwise OR"
      ],
      "metadata": {
        "id": "3t2pZ2VZ0zGA"
      }
    },
    {
      "cell_type": "code",
      "source": [
        "print(6 | 2 + 1)\n",
        "\n",
        "\"\"\"\n",
        "Bitwise OR has a lower precedence than addition, and we need to calculate the addition first.\n",
        "The calculation above reads 6 | 3 = 7\n",
        "\n",
        "More explanation:\n",
        "The | operator compares each bit and set it to 1 if one or both is 1, otherwise it is set to 0:\n",
        "\n",
        "6 = 0000000000000110\n",
        "3 = 0000000000000011\n",
        "--------------------\n",
        "7 = 0000000000000111\n",
        "====================\n",
        "\n",
        "Decimal numbers and their binary values:\n",
        "0 = 0000000000000000\n",
        "1 = 0000000000000001\n",
        "2 = 0000000000000010\n",
        "3 = 0000000000000011\n",
        "4 = 0000000000000100\n",
        "5 = 0000000000000101\n",
        "6 = 0000000000000110\n",
        "7 = 0000000000000111\n",
        "\"\"\""
      ],
      "metadata": {
        "colab": {
          "base_uri": "https://localhost:8080/",
          "height": 174
        },
        "id": "xtotaKnG00In",
        "outputId": "6b273d7b-5a2b-4f99-902d-98d2f7236203"
      },
      "execution_count": null,
      "outputs": [
        {
          "output_type": "stream",
          "name": "stdout",
          "text": [
            "7\n"
          ]
        },
        {
          "output_type": "execute_result",
          "data": {
            "text/plain": [
              "'\\nBitwise OR has a lower precedence than addition, and we need to calculate the addition first.\\nThe calculation above reads 6 | 3 = 7\\n\\nMore explanation:\\nThe | operator compares each bit and set it to 1 if one or both is 1, otherwise it is set to 0:\\n\\n6 = 0000000000000110\\n3 = 0000000000000011\\n--------------------\\n7 = 0000000000000111\\n====================\\n\\nDecimal numbers and their binary values:\\n0 = 0000000000000000\\n1 = 0000000000000001\\n2 = 0000000000000010\\n3 = 0000000000000011\\n4 = 0000000000000100\\n5 = 0000000000000101\\n6 = 0000000000000110\\n7 = 0000000000000111\\n'"
            ],
            "application/vnd.google.colaboratory.intrinsic+json": {
              "type": "string"
            }
          },
          "metadata": {},
          "execution_count": 51
        }
      ]
    },
    {
      "cell_type": "markdown",
      "source": [
        "# ==  !=  >  >=  <  <=  is  is not  in  not in \tComparisons, identity, and membership operators"
      ],
      "metadata": {
        "id": "dpis0VxU06KR"
      }
    },
    {
      "cell_type": "code",
      "source": [
        "print(5 == 4 + 1)\n",
        "\n",
        "\"\"\"\n",
        "The \"like\" comparison has a lower precedence than addition, and we need to calculate the addition first.\n",
        "The calculation above reads 5 == 5 = True\n",
        "\"\"\""
      ],
      "metadata": {
        "colab": {
          "base_uri": "https://localhost:8080/",
          "height": 70
        },
        "id": "PLGahbf307Kl",
        "outputId": "300f8ee5-aff5-49fd-8978-40197bf0cdde"
      },
      "execution_count": null,
      "outputs": [
        {
          "output_type": "stream",
          "name": "stdout",
          "text": [
            "True\n"
          ]
        },
        {
          "output_type": "execute_result",
          "data": {
            "text/plain": [
              "'\\nThe \"like\" comparison has a lower precedence than addition, and we need to calculate the addition first.\\nThe calculation above reads 5 == 5 = True\\n'"
            ],
            "application/vnd.google.colaboratory.intrinsic+json": {
              "type": "string"
            }
          },
          "metadata": {},
          "execution_count": 52
        }
      ]
    },
    {
      "cell_type": "markdown",
      "source": [
        "# not\tLogical NOT"
      ],
      "metadata": {
        "id": "TLNO9UJs1Ali"
      }
    },
    {
      "cell_type": "code",
      "source": [
        "print(not 5 == 5)\n",
        "\n",
        "\"\"\"\n",
        "The logical NOT operator has a lower precedence than \"like\" comparison, and we need to calculate the comparison first.\n",
        "The calculation above reads: not True = False\n",
        "\"\"\""
      ],
      "metadata": {
        "colab": {
          "base_uri": "https://localhost:8080/",
          "height": 88
        },
        "id": "zkk7oXU51B33",
        "outputId": "01cd4063-41f6-488a-872d-4d2f7e982938"
      },
      "execution_count": null,
      "outputs": [
        {
          "output_type": "stream",
          "name": "stdout",
          "text": [
            "False\n"
          ]
        },
        {
          "output_type": "execute_result",
          "data": {
            "text/plain": [
              "'\\nThe logical NOT operator has a lower precedence than \"like\" comparison, and we need to calculate the comparison first.\\nThe calculation above reads: not True = False\\n'"
            ],
            "application/vnd.google.colaboratory.intrinsic+json": {
              "type": "string"
            }
          },
          "metadata": {},
          "execution_count": 53
        }
      ]
    },
    {
      "cell_type": "markdown",
      "source": [
        "# and\tAND"
      ],
      "metadata": {
        "id": "nliLstp51Lpt"
      }
    },
    {
      "cell_type": "code",
      "source": [
        "print(1 or 2 and 3)\n",
        "\n",
        "\"\"\"\n",
        "The and operator has a higher precedence than or, and we need to calculate the and expression first.\n",
        "The calculation above reads: 1 or 3 = 1\n",
        "\"\"\""
      ],
      "metadata": {
        "colab": {
          "base_uri": "https://localhost:8080/",
          "height": 70
        },
        "id": "Zh6J4Wxc1Mxj",
        "outputId": "e9fe2dfa-d013-4fbd-9528-0d7664f621d0"
      },
      "execution_count": null,
      "outputs": [
        {
          "output_type": "stream",
          "name": "stdout",
          "text": [
            "1\n"
          ]
        },
        {
          "output_type": "execute_result",
          "data": {
            "text/plain": [
              "'\\nThe and operator has a higher precedence than or, and we need to calculate the and expression first.\\nThe calculation above reads: 1 or 3 = 1\\n'"
            ],
            "application/vnd.google.colaboratory.intrinsic+json": {
              "type": "string"
            }
          },
          "metadata": {},
          "execution_count": 54
        }
      ]
    },
    {
      "cell_type": "markdown",
      "source": [
        "# or\tOR"
      ],
      "metadata": {
        "id": "ERgmzToF1PnZ"
      }
    },
    {
      "cell_type": "code",
      "source": [
        "print(4 or 5 + 10 or 8)\n",
        "\n",
        "\"\"\"\n",
        "The or operator has a lower precedence than addition, and we need to calculate the addition first.\n",
        "The calculation above reads: 4 or 15 or 8 = 4\n",
        "\"\"\""
      ],
      "metadata": {
        "colab": {
          "base_uri": "https://localhost:8080/",
          "height": 70
        },
        "id": "f2GwQLOg1TCy",
        "outputId": "28b629ea-cfec-4985-f9c0-f6585639bfb4"
      },
      "execution_count": null,
      "outputs": [
        {
          "output_type": "stream",
          "name": "stdout",
          "text": [
            "4\n"
          ]
        },
        {
          "output_type": "execute_result",
          "data": {
            "text/plain": [
              "'\\nThe or operator has a lower precedence than addition, and we need to calculate the addition first.\\nThe calculation above reads: 4 or 15 or 8 = 4\\n'"
            ],
            "application/vnd.google.colaboratory.intrinsic+json": {
              "type": "string"
            }
          },
          "metadata": {},
          "execution_count": 55
        }
      ]
    },
    {
      "cell_type": "markdown",
      "source": [
        "# Python Booleans\n",
        "* Booleans represent one of two values: True or False.\n",
        "* In programming you often need to know if an expression is True or False.\n",
        "* You can evaluate any expression in Python, and get one of two answers, True or False."
      ],
      "metadata": {
        "id": "UP2FtG7H1_bm"
      }
    },
    {
      "cell_type": "code",
      "source": [
        "print(10 > 9)\n",
        "print(10 == 9)\n",
        "print(10 < 9)"
      ],
      "metadata": {
        "id": "3KhRH8gt2KHY",
        "outputId": "fbd74e0a-9e11-4a88-cce5-60654676ea1f",
        "colab": {
          "base_uri": "https://localhost:8080/"
        }
      },
      "execution_count": null,
      "outputs": [
        {
          "output_type": "stream",
          "name": "stdout",
          "text": [
            "True\n",
            "False\n",
            "False\n"
          ]
        }
      ]
    }
  ]
}